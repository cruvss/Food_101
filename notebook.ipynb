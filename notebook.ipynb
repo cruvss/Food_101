{
 "cells": [
  {
   "cell_type": "markdown",
   "metadata": {},
   "source": [
    "#  \n",
    "<h1 style=\"font-size:250%; font-family:cursive; color:#ff6666;\"> <b>1. Getting Data Ready <a id=\"0\"></a></b></h1>"
   ]
  },
  {
   "cell_type": "code",
   "execution_count": 1,
   "metadata": {},
   "outputs": [],
   "source": [
    "import os\n",
    "import pathlib\n",
    "from pathlib import Path "
   ]
  },
  {
   "cell_type": "markdown",
   "metadata": {},
   "source": [
    "### 1.1 Creating train and test directory and exploring them"
   ]
  },
  {
   "cell_type": "code",
   "execution_count": 7,
   "metadata": {},
   "outputs": [],
   "source": [
    "image_path = Path(\"data/food-101\")\n",
    "train_dir  = image_path/\"Train\"\n",
    "test_dir   = image_path/\"Test\""
   ]
  },
  {
   "cell_type": "markdown",
   "metadata": {},
   "source": [
    "#### Checking number of image samples in each set"
   ]
  },
  {
   "cell_type": "code",
   "execution_count": 23,
   "metadata": {},
   "outputs": [
    {
     "name": "stdout",
     "output_type": "stream",
     "text": [
      "Number of images in Training set is: 70700\n",
      "Number of images in Testing set is: 30300\n"
     ]
    }
   ],
   "source": [
    "print(f\"Number of images in Training set is: {len(list(train_dir.glob('*/*.jpg')))}\\nNumber of images in Testing set is: {len(list(test_dir.glob('*/*.jpg')))}\")\n",
    "# this is memory consuming as we have to make list here"
   ]
  },
  {
   "cell_type": "code",
   "execution_count": null,
   "metadata": {},
   "outputs": [
    {
     "name": "stdout",
     "output_type": "stream",
     "text": [
      "Number of images in Training set is: 70700\n",
      "Number of images in Testing set is: 30300\n"
     ]
    }
   ],
   "source": [
    "train_image_count = sum(1 for _ in train_dir.rglob('*.jpg'))\n",
    "test_image_count = sum(1 for _ in test_dir.rglob('*.jpg'))\n",
    "\n",
    "#rglob recursively seraches for .jpg file. \n",
    "\n",
    "print(f\"Number of images in Training set is: {train_image_count}\")\n",
    "print(f\"Number of images in Testing set is: {test_image_count}\")\n",
    "\n",
    "#memory efficient alternative"
   ]
  },
  {
   "cell_type": "markdown",
   "metadata": {},
   "source": [
    "### 1.2 Finding Class Labels and converting them to class index"
   ]
  },
  {
   "cell_type": "code",
   "execution_count": null,
   "metadata": {},
   "outputs": [],
   "source": []
  },
  {
   "cell_type": "code",
   "execution_count": null,
   "metadata": {},
   "outputs": [],
   "source": []
  }
 ],
 "metadata": {
  "kernelspec": {
   "display_name": "food101",
   "language": "python",
   "name": "python3"
  },
  "language_info": {
   "codemirror_mode": {
    "name": "ipython",
    "version": 3
   },
   "file_extension": ".py",
   "mimetype": "text/x-python",
   "name": "python",
   "nbconvert_exporter": "python",
   "pygments_lexer": "ipython3",
   "version": "3.11.11"
  }
 },
 "nbformat": 4,
 "nbformat_minor": 2
}
