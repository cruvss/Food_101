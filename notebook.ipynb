{
 "cells": [
  {
   "cell_type": "markdown",
   "metadata": {},
   "source": [
    "First we will make a jupyter notebook and try to obtain best result. After that we will split the notebook into different python scripts for deployment if needed."
   ]
  },
  {
   "cell_type": "markdown",
   "metadata": {},
   "source": [
    "# Getting the data ready"
   ]
  },
  {
   "cell_type": "code",
   "execution_count": 2,
   "metadata": {},
   "outputs": [],
   "source": [
    "import os\n",
    "import zipfile\n",
    "import tarfile\n",
    "from pathlib import Path\n",
    "import requests"
   ]
  },
  {
   "cell_type": "code",
   "execution_count": 4,
   "metadata": {},
   "outputs": [],
   "source": [
    "data_path = Path('data')\n",
    "image_path = data_path / \"food-101\""
   ]
  },
  {
   "cell_type": "code",
   "execution_count": null,
   "metadata": {},
   "outputs": [
    {
     "name": "stdout",
     "output_type": "stream",
     "text": [
      "Downloading food101 dataset. . . . \n",
      "Extraction complete.\n"
     ]
    }
   ],
   "source": [
    "if image_path.exists():\n",
    "    print(f'{image_path} Already exists!!!')\n",
    "else:\n",
    "    image_path.mkdir(parents=True, exist_ok = True)\n",
    "\n",
    "    with open(data_path/ 'food-101.tar.gz','wb') as f:\n",
    "        print(\"Downloading food101 dataset. . . . \")\n",
    "        response = requests.get(\"http://data.vision.ee.ethz.ch/cvl/food-101.tar.gz\")\n",
    "        f.write(response.content)\n",
    "    \n",
    "    with tarfile.open(data_path / 'food-101.tar.gz', 'r:gz') as tar:\n",
    "        tar.extractall(path=image_path)\n",
    "    \n",
    "    os.remove(data_path/'food-101.tar.gz')\n",
    "    print(\"Extraction complete.\")"
   ]
  },
  {
   "cell_type": "code",
   "execution_count": null,
   "metadata": {},
   "outputs": [],
   "source": []
  }
 ],
 "metadata": {
  "kernelspec": {
   "display_name": "Python 3 (ipykernel)",
   "language": "python",
   "name": "python3"
  },
  "language_info": {
   "codemirror_mode": {
    "name": "ipython",
    "version": 3
   },
   "file_extension": ".py",
   "mimetype": "text/x-python",
   "name": "python",
   "nbconvert_exporter": "python",
   "pygments_lexer": "ipython3",
   "version": "3.12.3"
  }
 },
 "nbformat": 4,
 "nbformat_minor": 2
}
